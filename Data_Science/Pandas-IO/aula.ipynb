{
 "cells": [
  {
   "cell_type": "markdown",
   "metadata": {},
   "source": [
    "# Lendo CSV"
   ]
  },
  {
   "cell_type": "code",
   "execution_count": null,
   "metadata": {},
   "outputs": [],
   "source": [
    "import pandas as pd\n",
    "import os"
   ]
  },
  {
   "cell_type": "code",
   "execution_count": null,
   "metadata": {},
   "outputs": [],
   "source": [
    "# Verificar e criar uma pasta \"Dados\" caso ela não exista\n",
    "if not os.path.exists('Dados'):\n",
    "    os.makedirs('Dados')"
   ]
  },
  {
   "cell_type": "code",
   "execution_count": null,
   "metadata": {},
   "outputs": [],
   "source": [
    "url = 'https://raw.githubusercontent.com/alura-cursos/Pandas/main/superstore_data.csv'"
   ]
  },
  {
   "cell_type": "code",
   "execution_count": null,
   "metadata": {},
   "outputs": [],
   "source": [
    "dados_mercado = pd.read_csv(url)"
   ]
  },
  {
   "cell_type": "code",
   "execution_count": null,
   "metadata": {},
   "outputs": [],
   "source": [
    "dados_mercado.head()"
   ]
  },
  {
   "cell_type": "code",
   "execution_count": null,
   "metadata": {},
   "outputs": [],
   "source": [
    "url_2 = 'https://raw.githubusercontent.com/alura-cursos/Pandas/main/superstore_data_ponto_virgula.csv'"
   ]
  },
  {
   "cell_type": "code",
   "execution_count": null,
   "metadata": {},
   "outputs": [],
   "source": [
    "dados_ponto_virgula = pd.read_csv(url_2, sep=';') # sep = separador\n",
    "dados_ponto_virgula.head()"
   ]
  },
  {
   "cell_type": "code",
   "execution_count": null,
   "metadata": {},
   "outputs": [],
   "source": [
    "dados_primeiras_linhas = pd.read_csv(url, nrows=10) # nrows = número de linhas\n",
    "dados_primeiras_linhas"
   ]
  },
  {
   "cell_type": "code",
   "execution_count": null,
   "metadata": {},
   "outputs": [],
   "source": [
    "dados_selecao_colunas = pd.read_csv(url, usecols=['Id', 'Year_Birth', 'Income']) # usecols = colunas que serão utilizadas\n",
    "dados_selecao_colunas.head()"
   ]
  },
  {
   "cell_type": "code",
   "execution_count": null,
   "metadata": {},
   "outputs": [],
   "source": [
    "dados_selecao = pd.read_csv(url, usecols=[0, 1, 4]) # usecols = colunas que serão utilizadas\n",
    "dados_selecao.head()"
   ]
  },
  {
   "cell_type": "code",
   "execution_count": null,
   "metadata": {},
   "outputs": [],
   "source": [
    "import chardet\n",
    "\n",
    "# Criar um arquivo csv com o separador ponto e vírgula\n",
    "dados_ponto_virgula.to_csv('./Dados/dados_ponto_virgula.csv', sep=';', index=False)\n",
    "\n",
    "# Verificar o encoding do arquivo\n",
    "with open('./Dados/dados_ponto_virgula.csv', 'rb') as file:\n",
    "    file_content = file.read()\n",
    "    var_encoding = chardet.detect(file_content)\n",
    "\n",
    "    if var_encoding is None:\n",
    "        print(\"Could not detect file encoding\")\n",
    "    else:\n",
    "        # Realizar a leitura do arquivo com o encoding correto\n",
    "        print(var_encoding)\n",
    "        df = pd.read_csv('./Dados/dados_ponto_virgula.csv', sep=';', encoding=var_encoding['encoding'])\n",
    "        display(df.head())"
   ]
  },
  {
   "cell_type": "code",
   "execution_count": null,
   "metadata": {},
   "outputs": [],
   "source": [
    "dados_selecao.to_csv('./Dados/clientes_mercado.csv')"
   ]
  },
  {
   "cell_type": "code",
   "execution_count": null,
   "metadata": {},
   "outputs": [],
   "source": [
    "clientes_mercado = pd.read_csv('./Dados/clientes_mercado.csv')"
   ]
  },
  {
   "cell_type": "code",
   "execution_count": null,
   "metadata": {},
   "outputs": [],
   "source": [
    "clientes_mercado"
   ]
  },
  {
   "cell_type": "code",
   "execution_count": null,
   "metadata": {},
   "outputs": [],
   "source": [
    "dados_selecao.to_csv('./Dados/clientes_mercado.csv', index=False)"
   ]
  },
  {
   "cell_type": "code",
   "execution_count": null,
   "metadata": {},
   "outputs": [],
   "source": [
    "dados_selecao"
   ]
  },
  {
   "cell_type": "code",
   "execution_count": null,
   "metadata": {},
   "outputs": [],
   "source": []
  },
  {
   "cell_type": "markdown",
   "metadata": {},
   "source": [
    "# Lendo Arquivos Excel"
   ]
  },
  {
   "cell_type": "code",
   "execution_count": null,
   "metadata": {},
   "outputs": [],
   "source": [
    "import pandas as pd"
   ]
  },
  {
   "cell_type": "code",
   "execution_count": null,
   "metadata": {},
   "outputs": [],
   "source": [
    "url = 'https://github.com/alura-cursos/Pandas/blob/main/emissoes_CO2.xlsx?raw=True'"
   ]
  },
  {
   "cell_type": "code",
   "execution_count": null,
   "metadata": {},
   "outputs": [],
   "source": [
    "if 'dados_co2' not in globals(): # Verifica se a variável já existe\n",
    "    dados_co2 = pd.read_excel(url) # Se não existir, cria a variável"
   ]
  },
  {
   "cell_type": "code",
   "execution_count": null,
   "metadata": {},
   "outputs": [],
   "source": [
    "dados_co2.head()"
   ]
  },
  {
   "cell_type": "code",
   "execution_count": null,
   "metadata": {},
   "outputs": [],
   "source": [
    "if 'sheet_names' not in globals():\n",
    "    sheet_names = pd.ExcelFile(url).sheet_names\n",
    "\n",
    "print(sheet_names)"
   ]
  },
  {
   "cell_type": "code",
   "execution_count": null,
   "metadata": {},
   "outputs": [],
   "source": [
    "if 'percapita' not in globals():\n",
    "    percapita = pd.read_excel(url, sheet_name='emissoes_percapita')"
   ]
  },
  {
   "cell_type": "code",
   "execution_count": null,
   "metadata": {},
   "outputs": [],
   "source": [
    "percapita.head()"
   ]
  },
  {
   "cell_type": "code",
   "execution_count": null,
   "metadata": {},
   "outputs": [],
   "source": [
    "if 'fontes' not in globals():\n",
    "    fontes = pd.read_excel(url, sheet_name='fontes')"
   ]
  },
  {
   "cell_type": "code",
   "execution_count": null,
   "metadata": {},
   "outputs": [],
   "source": [
    "fontes.head()"
   ]
  },
  {
   "cell_type": "code",
   "execution_count": null,
   "metadata": {},
   "outputs": [],
   "source": [
    "if 'intervalo' not in globals():\n",
    "    intervalo = pd.read_excel(url, sheet_name='emissoes_C02', usecols='A:D')"
   ]
  },
  {
   "cell_type": "code",
   "execution_count": null,
   "metadata": {},
   "outputs": [],
   "source": [
    "intervalo"
   ]
  },
  {
   "cell_type": "code",
   "execution_count": null,
   "metadata": {},
   "outputs": [],
   "source": [
    "if 'intervalo_2' not in globals():\n",
    "    intervalo_2 = pd.read_excel(url, sheet_name='emissoes_C02', usecols='A:D', nrows=10)"
   ]
  },
  {
   "cell_type": "code",
   "execution_count": null,
   "metadata": {},
   "outputs": [],
   "source": [
    "intervalo_2"
   ]
  },
  {
   "cell_type": "code",
   "execution_count": null,
   "metadata": {},
   "outputs": [],
   "source": [
    "# Verificar se o arquivo existe\n",
    "import os\n",
    "\n",
    "if not os.path.exists('./Dados/co2_percapita.xlsx'):\n",
    "    percapita.to_excel('./Dados/co2_percapita.xlsx', index=False)\n",
    "    display(pd.read_excel('./Dados/co2_percapita.xlsx'))"
   ]
  },
  {
   "cell_type": "markdown",
   "metadata": {},
   "source": [
    "# Lendo Planilhas do Google"
   ]
  },
  {
   "cell_type": "code",
   "execution_count": null,
   "metadata": {},
   "outputs": [],
   "source": [
    "sheet_id = '1lzq0k-41-MbbS63C3Q9i1wPvLkSJt9zhr4Jolt1vEog'"
   ]
  },
  {
   "cell_type": "code",
   "execution_count": null,
   "metadata": {},
   "outputs": [],
   "source": [
    "url = f'https://docs.google.com/spreadsheets/d/{sheet_id}/gviz/tq?tqx=out:csv&sheet'"
   ]
  },
  {
   "cell_type": "code",
   "execution_count": null,
   "metadata": {},
   "outputs": [],
   "source": [
    "dados_co2_sheet = pd.read_csv(url)"
   ]
  },
  {
   "cell_type": "code",
   "execution_count": null,
   "metadata": {},
   "outputs": [],
   "source": [
    "dados_co2_sheet.head()"
   ]
  },
  {
   "cell_type": "code",
   "execution_count": null,
   "metadata": {},
   "outputs": [],
   "source": [
    "sheet_id = '1lzq0k-41-MbbS63C3Q9i1wPvLkSJt9zhr4Jolt1vEog'\n",
    "sheet_name = 'emissoes_percapita'\n",
    "url_percapita = f'https://docs.google.com/spreadsheets/d/{sheet_id}/gviz/tq?tqx=out:csv&sheet={sheet_name}'"
   ]
  },
  {
   "cell_type": "code",
   "execution_count": null,
   "metadata": {},
   "outputs": [],
   "source": [
    "percapita_sheets = pd.read_csv(url_percapita)"
   ]
  },
  {
   "cell_type": "code",
   "execution_count": null,
   "metadata": {},
   "outputs": [],
   "source": [
    "percapita_sheets.head()"
   ]
  },
  {
   "cell_type": "code",
   "execution_count": null,
   "metadata": {},
   "outputs": [],
   "source": [
    "sheet_id = '1lzq0k-41-MbbS63C3Q9i1wPvLkSJt9zhr4Jolt1vEog'\n",
    "sheet_name = 'fontes'\n",
    "url_fontes = f'https://docs.google.com/spreadsheets/d/{sheet_id}/gviz/tq?tqx=out:csv&sheet={sheet_name}'"
   ]
  },
  {
   "cell_type": "code",
   "execution_count": null,
   "metadata": {},
   "outputs": [],
   "source": [
    "fontes_sheets = pd.read_csv(url_fontes)"
   ]
  },
  {
   "cell_type": "code",
   "execution_count": null,
   "metadata": {},
   "outputs": [],
   "source": [
    "fontes_sheets.head()"
   ]
  },
  {
   "cell_type": "markdown",
   "metadata": {},
   "source": [
    "# Leitura de Arquivos JSON"
   ]
  },
  {
   "cell_type": "code",
   "execution_count": null,
   "metadata": {},
   "outputs": [],
   "source": [
    "import pandas as pd"
   ]
  },
  {
   "cell_type": "code",
   "execution_count": null,
   "metadata": {},
   "outputs": [],
   "source": [
    "url_1 = 'https://raw.githubusercontent.com/alura-cursos/Pandas/main/pacientes.json' \n",
    "dados_pacientes = pd.read_json(url_1)"
   ]
  },
  {
   "cell_type": "code",
   "execution_count": null,
   "metadata": {},
   "outputs": [],
   "source": [
    "dados_pacientes"
   ]
  },
  {
   "cell_type": "code",
   "execution_count": null,
   "metadata": {},
   "outputs": [],
   "source": [
    "url_2 = 'https://raw.githubusercontent.com/alura-cursos/Pandas/main/pacientes_2.json'\n",
    "dados_pacientes_2 = pd.read_json(url_2)"
   ]
  },
  {
   "cell_type": "code",
   "execution_count": null,
   "metadata": {},
   "outputs": [],
   "source": [
    "dados_pacientes_2"
   ]
  },
  {
   "cell_type": "code",
   "execution_count": null,
   "metadata": {},
   "outputs": [],
   "source": [
    "df_normalizado = pd.json_normalize(dados_pacientes_2['Pacientes'])\n",
    "df_normalizado"
   ]
  },
  {
   "cell_type": "code",
   "execution_count": null,
   "metadata": {},
   "outputs": [],
   "source": [
    "df_normalizado.to_json('./Dados/historico_pacientes_normalizados.json')"
   ]
  },
  {
   "cell_type": "markdown",
   "metadata": {},
   "source": [
    "## Outras Formas de Normalizar"
   ]
  },
  {
   "cell_type": "code",
   "execution_count": null,
   "metadata": {},
   "outputs": [],
   "source": [
    "dados = {'Pesquisa': 'Principais Indicadores de Doenca Cardiaca', 'Ano': 2020, 'Numero_Pacientes':3}\n",
    "df = pd.json_normalize(dados)\n",
    "df\n"
   ]
  },
  {
   "cell_type": "code",
   "execution_count": null,
   "metadata": {},
   "outputs": [],
   "source": [
    "json_lista = [\n",
    "    { 'ID': '01', 'Faixa_etaria': '55-59', 'Sexo_biologico': 'feminino'},\n",
    "    { 'ID': '02', 'Faixa_etaria': '80 ou +', 'Sexo_biologico': 'feminino'}\n",
    "]\n",
    "\n",
    "pd.json_normalize(json_lista)\n",
    "\n"
   ]
  },
  {
   "cell_type": "code",
   "execution_count": null,
   "metadata": {},
   "outputs": [],
   "source": [
    "json_obj = {\n",
    "    'ID': '01',\n",
    "    'Faixa_etaria': '55-59',\n",
    "    'Sexo_biologico': 'Feminino',\n",
    "    'Saude': {'Dificuldade_caminhar': 'Nao',\n",
    "              'Atividade_fisica': 'Sim',\n",
    "              'IMC': 16.6,\n",
    "              'Doenca_cardiaca': 'Nao',\n",
    "          }\n",
    "      }\n",
    "\n",
    "pd.json_normalize(json_obj)\n"
   ]
  },
  {
   "cell_type": "code",
   "execution_count": null,
   "metadata": {},
   "outputs": [],
   "source": [
    "json_list = [\n",
    "    {\n",
    "    'ID': '01',\n",
    "    'Faixa_etaria': '55-59',\n",
    "    'Sexo_biologico': 'Feminino',\n",
    "    'Saude': {'Dificuldade_caminhar': 'Nao',\n",
    "              'Atividade_fisica': 'Sim',\n",
    "              'IMC': 16.6,\n",
    "              'Doenca_cardiaca': 'Nao',\n",
    "          }\n",
    "      },\n",
    "      {\n",
    "          'ID': '02',\n",
    "          'Faixa_etaria': '80 ou +',\n",
    "          'Sexo_biologico': 'Feminino',\n",
    "          'Saude': {'Dificuldade_caminhar': 'Nao',\n",
    "                    'Atividade_fisica': 'Sim',\n",
    "                    'IMC': 20.34,\n",
    "                    'Doenca_cardiaca': 'Sim'}\n",
    "       }\n",
    "       ]\n",
    "\n",
    "pd.json_normalize(json_list)\n"
   ]
  },
  {
   "cell_type": "code",
   "execution_count": null,
   "metadata": {},
   "outputs": [],
   "source": [
    "dados_dict = {\n",
    "  \"Pesquisa\": \"Principais Indicadores de Doenca Cardiaca\",\n",
    "  \"Ano\": 2020,\n",
    "  \"Pacientes\": [\n",
    "    {\n",
    "      \"ID\": \"01\",\n",
    "      \"Faixa_etaria\": \"55-59\",\n",
    "      \"Sexo_biologico\": \"Feminino\",\n",
    "      \"Raça\": \"Branca\",\n",
    "      \"IMC\": 16.6,\n",
    "      \"Fumante\": \"Sim\",\n",
    "      \"Consumo_alcool\": \"Nao\",\n",
    "      \"Saude_fisica\": 3,\n",
    "      \"Saude_mental\": 30,\n",
    "      \"Dificuldade_caminhar\": \"Nao\",\n",
    "      \"Atividade_fisica\": \"Sim\",\n",
    "      \"Saude_geral\": \"Muito boa\",\n",
    "      \"Horas_sono\": 5,\n",
    "      \"Problemas_saude\": [\n",
    "        \"Diabetes\",\n",
    "        \"Asma\",\n",
    "        \"Cancer_pele\"\n",
    "      ]\n",
    "    },\n",
    "    {\n",
    "      \"ID\": \"02\",\n",
    "      \"Faixa_etaria\": \"80 ou +\",\n",
    "      \"Sexo_biologico\": \"Feminino\",\n",
    "      \"Raça\": \"Branca\",\n",
    "      \"IMC\": 20.34,\n",
    "      \"Fumante\": \"Nao\",\n",
    "      \"Consumo_alcool\": \"Nao\",\n",
    "      \"Saude_fisica\": 0,\n",
    "      \"Saude_mental\": 0,\n",
    "      \"Dificuldade_caminhar\": \"Nao\",\n",
    "      \"Atividade_fisica\": \"Sim\",\n",
    "      \"Saude_geral\": \"Muito boa\",\n",
    "      \"Horas_sono\": 7,\n",
    "      \"Problemas_saude\": [\n",
    "        \"AVC\"\n",
    "      ]\n",
    "    },\n",
    "    {\n",
    "      \"ID\": \"03\",\n",
    "      \"Faixa_etaria\": \"65-69\",\n",
    "      \"Sexo_biologico\": \"Masculino\",\n",
    "      \"Raça\": \"Branca\",\n",
    "      \"IMC\": 26.58,\n",
    "      \"Fumante\": \"Sim\",\n",
    "      \"Consumo_alcool\": \"Nao\",\n",
    "      \"Saude_fisica\": 20,\n",
    "      \"Saude_mental\": 30,\n",
    "      \"Dificuldade_caminhar\": \"Nao\",\n",
    "      \"Atividade_fisica\": \"Sim\",\n",
    "      \"Saude_geral\": \"Muito boa\",\n",
    "      \"Horas_sono\": 8,\n",
    "      \"Problemas_saude\": [\n",
    "        \"diabetes\",\n",
    "        \"Asma\"\n",
    "      ]\n",
    "    }\n",
    "  ]\n",
    "}\n",
    "\n",
    "pd.json_normalize(dados_dict['Pacientes'])\n",
    "# Ou\n",
    "pd.json_normalize(dados_dict, record_path=['Pacientes'])\n",
    "\n",
    "\n"
   ]
  },
  {
   "cell_type": "code",
   "execution_count": null,
   "metadata": {},
   "outputs": [],
   "source": [
    "pd.json_normalize(\n",
    "    dados_dict, \n",
    "    record_path =['Pacientes'], \n",
    "    meta=['Pesquisa', 'Ano']\n",
    ")\n"
   ]
  },
  {
   "cell_type": "markdown",
   "metadata": {},
   "source": [
    "### Se for normalizar um arquivo JASON"
   ]
  },
  {
   "cell_type": "code",
   "execution_count": null,
   "metadata": {},
   "outputs": [],
   "source": [
    "#Importando a biblioteca Pandas\n",
    "import pandas as pd\n",
    "\n",
    "#Importando o módulo JSON\n",
    "import json\n",
    "\n",
    "#Lendo o arquivo json usando o módulo Python JSON\n",
    "with open('./Dados/dados_pacientes_2.json','r') as f:\n",
    "    dados = json.loads(f.read())\n",
    "\n",
    "#Normalizando os dados com os parâmetros record_path e meta\n",
    "pd.json_normalize(dados, record_path='Pacientes', meta=['Pesquisa', 'Ano'])\n"
   ]
  },
  {
   "cell_type": "markdown",
   "metadata": {},
   "source": [
    "# Lendo HTML"
   ]
  },
  {
   "cell_type": "code",
   "execution_count": null,
   "metadata": {},
   "outputs": [],
   "source": [
    "import pandas as pd"
   ]
  },
  {
   "cell_type": "code",
   "execution_count": null,
   "metadata": {},
   "outputs": [],
   "source": [
    "dados_html = pd.read_html('./Dados/filmes_wikipedia.html')\n",
    "dados_html"
   ]
  },
  {
   "cell_type": "code",
   "execution_count": null,
   "metadata": {},
   "outputs": [],
   "source": [
    "type(dados_html)"
   ]
  },
  {
   "cell_type": "code",
   "execution_count": null,
   "metadata": {},
   "outputs": [],
   "source": [
    "len(dados_html)"
   ]
  },
  {
   "cell_type": "code",
   "execution_count": null,
   "metadata": {},
   "outputs": [],
   "source": [
    "top_filmes = dados_html[1]\n",
    "top_filmes"
   ]
  },
  {
   "cell_type": "code",
   "execution_count": null,
   "metadata": {},
   "outputs": [],
   "source": [
    "top_filmes.to_html('./Dados/top_filmes.html', index=False)"
   ]
  },
  {
   "cell_type": "code",
   "execution_count": null,
   "metadata": {},
   "outputs": [],
   "source": [
    "top_filmes.to_csv('./Dados/top_filmes_1998.csv', index=False)"
   ]
  },
  {
   "cell_type": "code",
   "execution_count": null,
   "metadata": {},
   "outputs": [],
   "source": [
    "pd.read_csv('./Dados/top_filmes_1998.csv')"
   ]
  },
  {
   "cell_type": "markdown",
   "metadata": {},
   "source": [
    "# Leitura de Arquivos XML"
   ]
  },
  {
   "cell_type": "code",
   "execution_count": null,
   "metadata": {},
   "outputs": [],
   "source": [
    "import pandas as pd"
   ]
  },
  {
   "cell_type": "code",
   "execution_count": null,
   "metadata": {},
   "outputs": [],
   "source": [
    "dados_imdb = pd.read_xml('./Dados/imdb_top_1000.xml')"
   ]
  },
  {
   "cell_type": "code",
   "execution_count": null,
   "metadata": {},
   "outputs": [],
   "source": [
    "dados_imdb.head(3)"
   ]
  },
  {
   "cell_type": "code",
   "execution_count": null,
   "metadata": {},
   "outputs": [],
   "source": [
    "dados_imdb.to_xml('./Dados/filmes_imdb.xml')"
   ]
  },
  {
   "cell_type": "markdown",
   "metadata": {},
   "source": [
    "# Lendo SQL"
   ]
  },
  {
   "cell_type": "code",
   "execution_count": null,
   "metadata": {},
   "outputs": [],
   "source": [
    "import pandas as pd\n",
    "import sqlalchemy\n",
    "\n",
    "sqlalchemy.__version__\n"
   ]
  },
  {
   "cell_type": "code",
   "execution_count": null,
   "metadata": {},
   "outputs": [],
   "source": [
    "from sqlalchemy import create_engine, MetaData, Table, Column, inspect"
   ]
  },
  {
   "cell_type": "code",
   "execution_count": null,
   "metadata": {},
   "outputs": [],
   "source": [
    "engine = create_engine('sqlite:///:memory:')"
   ]
  },
  {
   "cell_type": "code",
   "execution_count": null,
   "metadata": {},
   "outputs": [],
   "source": [
    "dados = pd.read_csv('./Dados/clientes_banco.csv')\n",
    "dados.head()"
   ]
  },
  {
   "cell_type": "code",
   "execution_count": null,
   "metadata": {},
   "outputs": [],
   "source": [
    "dados.to_sql('clientes', con=engine, index=False)"
   ]
  },
  {
   "cell_type": "code",
   "execution_count": null,
   "metadata": {},
   "outputs": [],
   "source": [
    "inspector = inspect(engine)"
   ]
  },
  {
   "cell_type": "code",
   "execution_count": null,
   "metadata": {},
   "outputs": [],
   "source": [
    "print(inspector.get_table_names())"
   ]
  },
  {
   "cell_type": "code",
   "execution_count": null,
   "metadata": {},
   "outputs": [],
   "source": [
    "query = 'SELECT * FROM clientes WHERE Categoria_de_renda = \"Empregado\"'"
   ]
  },
  {
   "cell_type": "code",
   "execution_count": null,
   "metadata": {},
   "outputs": [],
   "source": [
    "empregados = pd.read_sql(query, engine)\n",
    "empregados"
   ]
  },
  {
   "cell_type": "code",
   "execution_count": null,
   "metadata": {},
   "outputs": [],
   "source": [
    "empregados.to_sql('empregados', con=engine, index=False)"
   ]
  },
  {
   "cell_type": "code",
   "execution_count": null,
   "metadata": {},
   "outputs": [],
   "source": [
    "pd.read_sql_table('empregados', engine)"
   ]
  },
  {
   "cell_type": "code",
   "execution_count": null,
   "metadata": {},
   "outputs": [],
   "source": [
    "pd.read_sql_table('empregados', engine, columns=['ID_Cliente', 'Grau_escolaridade', 'Rendimento_anual'])"
   ]
  },
  {
   "cell_type": "code",
   "execution_count": null,
   "metadata": {},
   "outputs": [],
   "source": [
    "query = 'SELECT * FROM clientes'"
   ]
  },
  {
   "cell_type": "code",
   "execution_count": null,
   "metadata": {},
   "outputs": [],
   "source": [
    "pd.read_sql(query, engine)"
   ]
  },
  {
   "cell_type": "code",
   "execution_count": null,
   "metadata": {},
   "outputs": [],
   "source": [
    "query = 'DELETE FROM clientes WHERE ID_Cliente = 5008804'\n",
    "with engine.connect() as con:\n",
    "    con.execute(query)"
   ]
  },
  {
   "cell_type": "code",
   "execution_count": null,
   "metadata": {},
   "outputs": [],
   "source": [
    "pd.read_sql_table('clientes', engine)"
   ]
  },
  {
   "cell_type": "code",
   "execution_count": null,
   "metadata": {},
   "outputs": [],
   "source": [
    "query = 'UPDATE clientes SET Grau_escolaridade = \"Ensino superior\" WHERE ID_Cliente = 5008808'\n",
    "with engine.connect() as con:\n",
    "    con.execute(query)"
   ]
  },
  {
   "cell_type": "code",
   "execution_count": null,
   "metadata": {},
   "outputs": [],
   "source": [
    "pd.read_sql_table('clientes', engine)"
   ]
  }
 ],
 "metadata": {
  "kernelspec": {
   "display_name": "base",
   "language": "python",
   "name": "python3"
  },
  "language_info": {
   "codemirror_mode": {
    "name": "ipython",
    "version": 3
   },
   "file_extension": ".py",
   "mimetype": "text/x-python",
   "name": "python",
   "nbconvert_exporter": "python",
   "pygments_lexer": "ipython3",
   "version": "3.9.12"
  },
  "orig_nbformat": 4
 },
 "nbformat": 4,
 "nbformat_minor": 2
}
