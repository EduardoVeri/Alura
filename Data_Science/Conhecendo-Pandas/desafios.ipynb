{
 "cells": [
  {
   "cell_type": "markdown",
   "metadata": {
    "id": "goua7aDHJVFQ"
   },
   "source": [
    "## Descrição\n",
    "\n",
    "Esse notebook foi construído para realizar os desafios propostos no final de cada aula do curso **Pandas: conhecendo a biblioteca**"
   ]
  },
  {
   "cell_type": "markdown",
   "metadata": {
    "id": "2osVQB21Jkl0"
   },
   "source": [
    "## Aula 1: Conhecendo a base de dados"
   ]
  },
  {
   "cell_type": "markdown",
   "metadata": {
    "id": "MvoEQ0djJ4zz"
   },
   "source": [
    "### Desafio 1\n",
    "Importe o arquivo [**alunos.csv**](https://raw.githubusercontent.com/alura-cursos/pandas-conhecendo-a-biblioteca/main/desafios/alunos.csv) e armazene seu conteúdo em um DataFrame Pandas"
   ]
  },
  {
   "cell_type": "code",
   "execution_count": null,
   "metadata": {
    "id": "vGH2QKP6JL-f"
   },
   "outputs": [],
   "source": []
  },
  {
   "cell_type": "code",
   "execution_count": null,
   "metadata": {
    "id": "woFmZUEwKDjH"
   },
   "outputs": [],
   "source": []
  },
  {
   "cell_type": "markdown",
   "metadata": {
    "id": "_Clm9OC8KEzn"
   },
   "source": [
    "### Desafio 2\n",
    "Visualize as primeiras 7 linhas do DataFrame e as 5 últimas"
   ]
  },
  {
   "cell_type": "code",
   "execution_count": null,
   "metadata": {
    "id": "dGnHtl0CKVBj"
   },
   "outputs": [],
   "source": []
  },
  {
   "cell_type": "code",
   "execution_count": null,
   "metadata": {
    "id": "hksDPBjjKY27"
   },
   "outputs": [],
   "source": []
  },
  {
   "cell_type": "markdown",
   "metadata": {
    "id": "5h6GhVJJKZZn"
   },
   "source": [
    "### Desafio 3\n",
    "Confira a quantidade de linhas e colunas do DataFrame"
   ]
  },
  {
   "cell_type": "code",
   "execution_count": null,
   "metadata": {
    "id": "Na2Hb-rlKfBy"
   },
   "outputs": [],
   "source": []
  },
  {
   "cell_type": "markdown",
   "metadata": {
    "id": "ci0j5pcMKgbr"
   },
   "source": [
    "### Desafio 4\n",
    "Explore as colunas do DataFrame e analise os tipos dos dados presentes em cada coluna"
   ]
  },
  {
   "cell_type": "code",
   "execution_count": null,
   "metadata": {
    "id": "BcZUf6dwKjk7"
   },
   "outputs": [],
   "source": []
  },
  {
   "cell_type": "code",
   "execution_count": null,
   "metadata": {
    "id": "QHCBKee6Kkj7"
   },
   "outputs": [],
   "source": []
  },
  {
   "cell_type": "code",
   "execution_count": null,
   "metadata": {
    "id": "xPQMDDaVKlLB"
   },
   "outputs": [],
   "source": []
  },
  {
   "cell_type": "code",
   "execution_count": null,
   "metadata": {
    "id": "SFHoqZvlKldl"
   },
   "outputs": [],
   "source": []
  },
  {
   "cell_type": "markdown",
   "metadata": {
    "id": "jR8mayuIKl0m"
   },
   "source": [
    "### **Extra**\n",
    "Calcule algumas estatísticas descritivas básicas dos dados do DataFrame (média, desvio padrão, etc) - Dica: pesquise pelo método **describe**"
   ]
  },
  {
   "cell_type": "code",
   "execution_count": null,
   "metadata": {
    "id": "tE07xd72KrE1"
   },
   "outputs": [],
   "source": []
  },
  {
   "cell_type": "markdown",
   "metadata": {
    "id": "uMA6kKxSKtZ6"
   },
   "source": [
    "## Aula 2: Análise exploratória dos dados"
   ]
  },
  {
   "cell_type": "markdown",
   "metadata": {
    "id": "eQ6g_wYOiHSM"
   },
   "source": [
    "Para os desafios dessa aula, vamos utilizar a mesma base de dados que estamos utilizando para o desenvolvimento do nosso projeto. Sendo assim, na célula abaixo vamos realizar a importação dessa base de dados e aplicar as transformações já realizadas até o momento da aula 2."
   ]
  },
  {
   "cell_type": "code",
   "execution_count": null,
   "metadata": {
    "id": "k0kz48JCgTep"
   },
   "outputs": [],
   "source": [
    "import pandas as pd"
   ]
  },
  {
   "cell_type": "code",
   "execution_count": null,
   "metadata": {
    "id": "dUODdE3QidZ_"
   },
   "outputs": [],
   "source": [
    "# importando a base de dados\n",
    "url = 'https://raw.githubusercontent.com/alura-cursos/pandas-conhecendo-a-biblioteca/main/base-de-dados/aluguel.csv'\n",
    "dados = pd.read_csv(url, sep=';')"
   ]
  },
  {
   "cell_type": "code",
   "execution_count": null,
   "metadata": {
    "colab": {
     "base_uri": "https://localhost:8080/",
     "height": 206
    },
    "id": "y-FDJ89Fi444",
    "outputId": "bab8f8c8-4740-4c68-d405-bd2d77a88dd0"
   },
   "outputs": [],
   "source": [
    "imoveis_comerciais = ['Conjunto Comercial/Sala', \n",
    "                      'Prédio Inteiro', 'Loja/Salão', \n",
    "                      'Galpão/Depósito/Armazém', \n",
    "                      'Casa Comercial', 'Terreno Padrão',\n",
    "                      'Loja Shopping/ Ct Comercial',\n",
    "                      'Box/Garagem', 'Chácara',\n",
    "                      'Loteamento/Condomínio', 'Sítio',\n",
    "                      'Pousada/Chalé', 'Hotel', 'Indústria']\n",
    "                      \n",
    "# removendo imóveis comerciais\n",
    "df = dados.query('@imoveis_comerciais not in Tipo')\n",
    "\n",
    "# selecionando apenas imóveis do tipo apartamento\n",
    "df = df.query('Tipo == \"Apartamento\"')\n",
    "\n",
    "# visualizando a base de dados\n",
    "df.head()"
   ]
  },
  {
   "cell_type": "markdown",
   "metadata": {
    "id": "0UIfl11Th0em"
   },
   "source": [
    "### Desafio 1\n",
    "Calcular a média de quartos por apartamento"
   ]
  },
  {
   "cell_type": "code",
   "execution_count": null,
   "metadata": {
    "id": "VqilmozQKxyM"
   },
   "outputs": [],
   "source": [
    "df['Quartos'].mean()"
   ]
  },
  {
   "cell_type": "markdown",
   "metadata": {
    "id": "QHOiAeNKh3eZ"
   },
   "source": [
    "### Desafio 2\n",
    "Conferir quantos bairros únicos existem na nossa base de dados"
   ]
  },
  {
   "cell_type": "code",
   "execution_count": null,
   "metadata": {
    "id": "OC5iNZ1NjF15"
   },
   "outputs": [],
   "source": [
    "len(df['Bairro'].unique())"
   ]
  },
  {
   "cell_type": "code",
   "execution_count": null,
   "metadata": {
    "id": "op-9fs_4h7Zk"
   },
   "outputs": [],
   "source": [
    "df['Bairro'].nunique() # retorna a quantidade de bairros"
   ]
  },
  {
   "cell_type": "markdown",
   "metadata": {
    "id": "TXHm9F56h73J"
   },
   "source": [
    "### Desafio 3\n",
    "Analisar quais bairros possuem a média de valor de aluguel mais elevadas"
   ]
  },
  {
   "cell_type": "code",
   "execution_count": null,
   "metadata": {
    "id": "0FWQkKEPh_1M"
   },
   "outputs": [],
   "source": [
    "df_bairros = df.groupby('Bairro')['Valor'].mean().sort_values(ascending=False).head()"
   ]
  },
  {
   "cell_type": "markdown",
   "metadata": {
    "id": "hosuaZ-aiBHB"
   },
   "source": [
    "### Desafio 4\n",
    "Criar um gráfico de barras verticais que apresente os 5 bairros com a média de valor de aluguel mais elevadas"
   ]
  },
  {
   "cell_type": "code",
   "execution_count": null,
   "metadata": {
    "id": "M7UR4aTBl2nR"
   },
   "outputs": [],
   "source": [
    "df_bairros.plot(kind='barh', figsize=(14,10), color='blue'); \n"
   ]
  },
  {
   "cell_type": "markdown",
   "metadata": {
    "id": "uS2xqXtlZ6wK"
   },
   "source": [
    "## Aula 3\n",
    "\n",
    "Importe novamente o arquivo [**alunos.csv**](https://raw.githubusercontent.com/alura-cursos/pandas-conhecendo-a-biblioteca/main/desafios/alunos.csv) para realizar os desafios abaixo."
   ]
  },
  {
   "cell_type": "code",
   "execution_count": null,
   "metadata": {
    "id": "YqltopXyZ-Zf"
   },
   "outputs": [],
   "source": [
    "# Importando novamente os dados\n"
   ]
  },
  {
   "cell_type": "markdown",
   "metadata": {
    "id": "Yni8_fbgaGnE"
   },
   "source": [
    "### Desafio 1\n",
    "Verifique se a base de dados possui dados nulos e caso tenha, realize o tratamento desses dados nulos"
   ]
  },
  {
   "cell_type": "code",
   "execution_count": null,
   "metadata": {
    "id": "RJVGbJt6aFfe"
   },
   "outputs": [],
   "source": []
  },
  {
   "cell_type": "code",
   "execution_count": null,
   "metadata": {
    "id": "JMRvNgXWa277"
   },
   "outputs": [],
   "source": []
  },
  {
   "cell_type": "code",
   "execution_count": null,
   "metadata": {
    "id": "zCXdr4-8a75S"
   },
   "outputs": [],
   "source": []
  },
  {
   "cell_type": "markdown",
   "metadata": {
    "id": "EEyzMqp2aZDl"
   },
   "source": [
    "### Desafio 2\n",
    "Os alunos \"Alice\" e \"Carlos\", não fazem mais parte da turma. Sendo assim, remova-os da base de dados"
   ]
  },
  {
   "cell_type": "code",
   "execution_count": null,
   "metadata": {
    "id": "gcnTcLGeaflO"
   },
   "outputs": [],
   "source": []
  },
  {
   "cell_type": "code",
   "execution_count": null,
   "metadata": {
    "id": "7fQ5RIs8bLf2"
   },
   "outputs": [],
   "source": []
  },
  {
   "cell_type": "code",
   "execution_count": null,
   "metadata": {
    "id": "h2rhaQaNbNG6"
   },
   "outputs": [],
   "source": []
  },
  {
   "cell_type": "code",
   "execution_count": null,
   "metadata": {
    "id": "lOUcnaHybYSt"
   },
   "outputs": [],
   "source": []
  },
  {
   "cell_type": "markdown",
   "metadata": {
    "id": "OrRUJuutagFZ"
   },
   "source": [
    "### Desafio 3\n",
    "Aplique um filtro que selecione apenas os alunos que foram aprovados"
   ]
  },
  {
   "cell_type": "code",
   "execution_count": null,
   "metadata": {
    "id": "mmF03BpwalK1"
   },
   "outputs": [],
   "source": []
  },
  {
   "cell_type": "code",
   "execution_count": null,
   "metadata": {
    "id": "RiSIxMl2bo3-"
   },
   "outputs": [],
   "source": []
  },
  {
   "cell_type": "markdown",
   "metadata": {
    "id": "tXgoKLW_dMQe"
   },
   "source": [
    "### Desafio 4\n",
    "Salve o DataFrame que possui apenas os alunos aprovados em um arquivo csv chamado \"alunos_aprovados.csv\""
   ]
  },
  {
   "cell_type": "code",
   "execution_count": null,
   "metadata": {
    "id": "f_6HGPUwdQNm"
   },
   "outputs": [],
   "source": []
  },
  {
   "cell_type": "code",
   "execution_count": null,
   "metadata": {
    "id": "KuIG4ZisdULa"
   },
   "outputs": [],
   "source": []
  },
  {
   "cell_type": "code",
   "execution_count": null,
   "metadata": {
    "id": "Q0LAb9-KdZXF"
   },
   "outputs": [],
   "source": []
  },
  {
   "cell_type": "markdown",
   "metadata": {
    "id": "duXAyzYscJFU"
   },
   "source": [
    "### **Extra**\n",
    "Ao conferir as notas dos alunos aprovados, notamos que algumas notas estavam incorretas. As alunas que tiraram nota 7.0, na verdade tinham um ponto extra que não foi contabilizado. Sendo assim, substitua as notas 7.0 da base de dados por 8.0. **Dica**: pesquise pelo método **replace**"
   ]
  },
  {
   "cell_type": "code",
   "execution_count": null,
   "metadata": {
    "id": "NBww4uiodjFd"
   },
   "outputs": [],
   "source": []
  },
  {
   "cell_type": "code",
   "execution_count": null,
   "metadata": {
    "id": "6rXH1Q89btNt"
   },
   "outputs": [],
   "source": []
  },
  {
   "cell_type": "code",
   "execution_count": null,
   "metadata": {
    "id": "bOE85OSfd7KU"
   },
   "outputs": [],
   "source": []
  },
  {
   "cell_type": "markdown",
   "metadata": {
    "id": "jUHA6Z_cy5vc"
   },
   "source": [
    "## Aula 4\n",
    "\n",
    "Importe novamente o arquivo [**alunos.csv**](https://raw.githubusercontent.com/alura-cursos/pandas-conhecendo-a-biblioteca/main/desafios/alunos.csv) para realizar os desafios abaixo."
   ]
  },
  {
   "cell_type": "code",
   "execution_count": null,
   "metadata": {
    "id": "TRLTBVThxo1g"
   },
   "outputs": [],
   "source": [
    "# Importando novamente os dados\n"
   ]
  },
  {
   "cell_type": "markdown",
   "metadata": {
    "id": "-nX3fxz7y8P9"
   },
   "source": [
    "### Desafio 1\n",
    "Os alunos participaram de uma atividade extracurricular e ganharam pontos extras. Esses pontos extras correspondem a 40% da nota atual de cada um deles. Com base nisso, crie uma coluna chamada \"Pontos_extras\" que contenha os pontos extras de cada aluno, ou seja, 40% da nota atual deles"
   ]
  },
  {
   "cell_type": "code",
   "execution_count": null,
   "metadata": {
    "id": "34CKCvGmy7J9"
   },
   "outputs": [],
   "source": []
  },
  {
   "cell_type": "markdown",
   "metadata": {
    "id": "LPbOAgiRzvnf"
   },
   "source": [
    "### Desafio 2\n",
    "Crie mais uma coluna, chamada \"Notas_finais\" que possua as notas de cada aluno somada com os pontos extras"
   ]
  },
  {
   "cell_type": "code",
   "execution_count": null,
   "metadata": {
    "id": "T4wuC339zw_p"
   },
   "outputs": [],
   "source": []
  },
  {
   "cell_type": "markdown",
   "metadata": {
    "id": "8L-b9Hxfz8fo"
   },
   "source": [
    "### Desafio 3\n",
    "Como os alunos ganharam pontos extras, alguns que não tinham sido aprovados antes podem ter sido aprovados agora. Com base nisso, crie uma coluna chamada \"Aprovado_final\" com os seguintes valores:\n",
    "\n",
    "* True: caso o aluno esteja aprovado (nota final deve ser maior ou igual a 6);\n",
    "* False: caso o aluno esteja reprovado (nota final deve ser menor que 6).\n"
   ]
  },
  {
   "cell_type": "code",
   "execution_count": null,
   "metadata": {
    "id": "A6aXkdOsz3DR"
   },
   "outputs": [],
   "source": []
  },
  {
   "cell_type": "markdown",
   "metadata": {
    "id": "UNnNsZYW1Xj_"
   },
   "source": [
    "### Desafio 4\n",
    "Faça uma seleção e verifique quais alunos não tinham sido aprovados anteriormente, mas foram aprovados após a soma dos pontos extras"
   ]
  },
  {
   "cell_type": "code",
   "execution_count": null,
   "metadata": {
    "id": "8BxkbL2N02sp"
   },
   "outputs": [],
   "source": []
  },
  {
   "cell_type": "code",
   "execution_count": null,
   "metadata": {
    "id": "6CzZUbGG8qSq"
   },
   "outputs": [],
   "source": []
  }
 ],
 "metadata": {
  "colab": {
   "provenance": [],
   "toc_visible": true
  },
  "kernelspec": {
   "display_name": "Python 3",
   "name": "python3"
  },
  "language_info": {
   "codemirror_mode": {
    "name": "ipython",
    "version": 3
   },
   "file_extension": ".py",
   "mimetype": "text/x-python",
   "name": "python",
   "nbconvert_exporter": "python",
   "pygments_lexer": "ipython3",
   "version": "3.9.12"
  }
 },
 "nbformat": 4,
 "nbformat_minor": 0
}
