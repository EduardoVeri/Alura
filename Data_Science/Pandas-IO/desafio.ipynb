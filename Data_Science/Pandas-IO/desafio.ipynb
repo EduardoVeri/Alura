{
 "cells": [
  {
   "cell_type": "markdown",
   "metadata": {},
   "source": [
    "# Desafio 1"
   ]
  },
  {
   "cell_type": "markdown",
   "metadata": {},
   "source": [
    "Realizar a leitura do arquivo 'https://raw.githubusercontent.com/alura-cursos/Pandas/main/dados_sus.csv'\n",
    "\n",
    "1. Verifique se o arquivo CSV está separado por vírgula ou ponto e vírgula.\n",
    "2. A codificação do arquivo é ISO-8859-1.\n",
    "3. As três primeiras linhas linhas do arquivo podem ser desconsideradas, pois o cabeçalho só começa na quarta linha.\n",
    "4. As 9 últimas linhas também podem ser desconsideradas, pois são apenas informações sobre onde os dados foram obtidos.\n",
    "5. Para deletar as últimas linhas é necessário adicionar o parâmetro engine='python'."
   ]
  },
  {
   "cell_type": "code",
   "execution_count": null,
   "metadata": {},
   "outputs": [],
   "source": [
    "import pandas as pd\n",
    "\n",
    "url = 'https://raw.githubusercontent.com/alura-cursos/Pandas/main/dados_sus.csv'\n",
    "df = pd.read_csv(url, sep=';', encoding='ISO-8859-1', skiprows=3, skipfooter=9, engine='python')\n",
    "df"
   ]
  }
 ],
 "metadata": {
  "kernelspec": {
   "display_name": "base",
   "language": "python",
   "name": "python3"
  },
  "language_info": {
   "codemirror_mode": {
    "name": "ipython",
    "version": 3
   },
   "file_extension": ".py",
   "mimetype": "text/x-python",
   "name": "python",
   "nbconvert_exporter": "python",
   "pygments_lexer": "ipython3",
   "version": "3.9.12"
  },
  "orig_nbformat": 4
 },
 "nbformat": 4,
 "nbformat_minor": 2
}
