{
 "cells": [
  {
   "cell_type": "markdown",
   "metadata": {
    "id": "po_EJXY_WTZ6"
   },
   "source": [
    "# Conhecendo a base de dados"
   ]
  },
  {
   "cell_type": "markdown",
   "metadata": {
    "id": "Yg7As1VwWnTw"
   },
   "source": [
    "## Importando os dados\n"
   ]
  },
  {
   "cell_type": "code",
   "execution_count": null,
   "metadata": {
    "id": "A0m9bw60V9Uj"
   },
   "outputs": [],
   "source": [
    "import pandas as pd"
   ]
  },
  {
   "cell_type": "code",
   "execution_count": null,
   "metadata": {
    "id": "-8GmBuLzWlnS"
   },
   "outputs": [],
   "source": [
    "url = 'https://raw.githubusercontent.com/alura-cursos/pandas-conhecendo-a-biblioteca/main/base-de-dados/aluguel.csv'\n",
    "pd.read_csv(url) # lendo o arquivo csv, com o separador padrão (vírgula)"
   ]
  },
  {
   "cell_type": "code",
   "execution_count": null,
   "metadata": {
    "id": "Af6xejuuWli2"
   },
   "outputs": [],
   "source": [
    "pd.read_csv(url, sep = ';') # lendo o arquivo csv, com o separador ';'"
   ]
  },
  {
   "cell_type": "code",
   "execution_count": null,
   "metadata": {
    "id": "1EjEmItCWleQ"
   },
   "outputs": [],
   "source": [
    "dados = pd.read_csv(url, sep = ';')\n",
    "dados"
   ]
  },
  {
   "cell_type": "code",
   "execution_count": null,
   "metadata": {
    "id": "KaWMKbLmWlZj"
   },
   "outputs": [],
   "source": [
    "dados.head() # mostra as 5 primeiras linhas do DataFrame"
   ]
  },
  {
   "cell_type": "code",
   "execution_count": null,
   "metadata": {
    "id": "cfLu1_AcW1Y1"
   },
   "outputs": [],
   "source": [
    "dados.tail() # mostra as 5 últimas linhas do DataFrame"
   ]
  },
  {
   "cell_type": "code",
   "execution_count": null,
   "metadata": {
    "id": "-6wHgCC6W3Dq"
   },
   "outputs": [],
   "source": [
    "type(dados) # mostra o tipo do objeto"
   ]
  },
  {
   "cell_type": "markdown",
   "metadata": {
    "id": "rwL6VcT9W6W-"
   },
   "source": [
    "## Características gerais da base de dados"
   ]
  },
  {
   "cell_type": "code",
   "execution_count": null,
   "metadata": {
    "id": "V3RRXTIYW7KV"
   },
   "outputs": [],
   "source": [
    "dados.shape # mostra a quantidade de linhas e colunas do DataFrame"
   ]
  },
  {
   "cell_type": "code",
   "execution_count": null,
   "metadata": {
    "id": "55WX-hlnW6wm"
   },
   "outputs": [],
   "source": [
    "dados.columns # mostra o nome das colunas do DataFrame"
   ]
  },
  {
   "cell_type": "code",
   "execution_count": null,
   "metadata": {
    "id": "yacj_jwOXESW"
   },
   "outputs": [],
   "source": [
    "dados.info() # mostra informações sobre o DataFrame"
   ]
  },
  {
   "cell_type": "code",
   "execution_count": null,
   "metadata": {
    "id": "Mh5HqrORXEMu"
   },
   "outputs": [],
   "source": [
    "dados['Tipo'] # mostra a coluna 'Tipo' do DataFrame"
   ]
  },
  {
   "cell_type": "code",
   "execution_count": null,
   "metadata": {
    "id": "ZmygOLCMXIyB"
   },
   "outputs": [],
   "source": [
    "dados[['Quartos', 'Valor']] # selecionando colunas específicas"
   ]
  },
  {
   "cell_type": "markdown",
   "metadata": {},
   "source": [
    "## Atividade Extra"
   ]
  },
  {
   "cell_type": "code",
   "execution_count": null,
   "metadata": {},
   "outputs": [],
   "source": [
    "dados_alunos = pd.read_csv('./Dados/alunos.csv')\n",
    "dados_alunos"
   ]
  },
  {
   "cell_type": "code",
   "execution_count": null,
   "metadata": {},
   "outputs": [],
   "source": [
    "print(dados_alunos.head(7)) # mostra as 7 primeiras linhas do DataFrame\n",
    "print(dados_alunos.tail(5)) # mostra as 5 últimas linhas do DataFrame"
   ]
  },
  {
   "cell_type": "code",
   "execution_count": null,
   "metadata": {},
   "outputs": [],
   "source": [
    "dados_alunos.shape # mostra a quantidade de linhas e colunas do DataFrame"
   ]
  },
  {
   "cell_type": "code",
   "execution_count": null,
   "metadata": {},
   "outputs": [],
   "source": [
    "print(dados_alunos.columns) # mostra o nome das colunas do DataFrame\n",
    "print(dados_alunos.dtypes) # mostra o tipo de cada coluna do DataFrame"
   ]
  },
  {
   "cell_type": "code",
   "execution_count": null,
   "metadata": {},
   "outputs": [],
   "source": [
    "dados_alunos.describe() # mostra informações estatísticas do DataFrame"
   ]
  },
  {
   "cell_type": "markdown",
   "metadata": {
    "id": "cwVMOIMpWWfM"
   },
   "source": [
    "# Análise exploratória de dados"
   ]
  },
  {
   "cell_type": "markdown",
   "metadata": {
    "id": "rnsDqFNDYV9-"
   },
   "source": [
    "## Qual o valor médio de aluguel por tipo de imóvel?"
   ]
  },
  {
   "cell_type": "code",
   "execution_count": null,
   "metadata": {
    "id": "WRsE4GdoHZbg"
   },
   "outputs": [],
   "source": [
    "dados.head() "
   ]
  },
  {
   "cell_type": "code",
   "execution_count": null,
   "metadata": {
    "id": "1CDTCoKvSZiy"
   },
   "outputs": [],
   "source": [
    "dados['Valor'].mean() # mostra a média da coluna 'Valor'"
   ]
  },
  {
   "cell_type": "code",
   "execution_count": null,
   "metadata": {
    "id": "_Ud_6L8WTqWY"
   },
   "outputs": [],
   "source": [
    "dados.groupby('Tipo').mean(numeric_only=True) # agrupando os dados pela coluna 'Tipo' e mostrando a média de cada coluna"
   ]
  },
  {
   "cell_type": "code",
   "execution_count": null,
   "metadata": {
    "id": "7No8Z_W_YXJ1"
   },
   "outputs": [],
   "source": [
    "dados.groupby('Tipo')['Valor'].mean() # agrupando os dados pela coluna 'Tipo' e mostrando a média da coluna 'Valor'"
   ]
  },
  {
   "cell_type": "code",
   "execution_count": null,
   "metadata": {
    "id": "xwNUoofAYXFU"
   },
   "outputs": [],
   "source": [
    "dados.groupby('Tipo')[['Valor']].mean().sort_values(by='Valor', ascending=False) # agrupando os dados pela coluna 'Tipo', mostrando a média da coluna 'Valor' e ordenando os valores de forma decrescente"
   ]
  },
  {
   "cell_type": "code",
   "execution_count": null,
   "metadata": {
    "id": "wc-pASG0YXBt"
   },
   "outputs": [],
   "source": [
    "df_preco_tipo = dados.groupby('Tipo')[['Valor']].mean().sort_values(by='Valor', ascending=False)\n",
    "df_preco_tipo.plot(kind='barh', figsize=(14,10), color='purple'); # plotando um gráfico de barras horizontais"
   ]
  },
  {
   "cell_type": "markdown",
   "metadata": {
    "id": "c2rdhKbgZMpT"
   },
   "source": [
    "## Removendo os imóveis comerciais"
   ]
  },
  {
   "cell_type": "code",
   "execution_count": null,
   "metadata": {
    "id": "JELgjo5dZIwe"
   },
   "outputs": [],
   "source": [
    "dados.Tipo.unique() # mostra os valores únicos da coluna 'Tipo'"
   ]
  },
  {
   "cell_type": "code",
   "execution_count": null,
   "metadata": {
    "id": "rDVKB-xtZUU9"
   },
   "outputs": [],
   "source": [
    "# criando uma lista com os tipos de imóveis comerciais\n",
    "imoveis_comerciais = ['Conjunto Comercial/Sala', \n",
    "                      'Prédio Inteiro', 'Loja/Salão', \n",
    "                      'Galpão/Depósito/Armazém', \n",
    "                      'Casa Comercial', 'Terreno Padrão',\n",
    "                      'Loja Shopping/ Ct Comercial',\n",
    "                      'Box/Garagem', 'Chácara',\n",
    "                      'Loteamento/Condomínio', 'Sítio',\n",
    "                      'Pousada/Chalé', 'Hotel', 'Indústria']\n"
   ]
  },
  {
   "cell_type": "code",
   "execution_count": null,
   "metadata": {
    "id": "GK9p8CEK4CtU"
   },
   "outputs": [],
   "source": [
    "dados.query('@imoveis_comerciais in Tipo') # filtrando os dados que contém os tipos de imóveis comerciais\n",
    "# Importante usar o @ antes da variável"
   ]
  },
  {
   "cell_type": "code",
   "execution_count": null,
   "metadata": {
    "id": "v7dZPR5c4Oo2"
   },
   "outputs": [],
   "source": [
    "dados.query('@imoveis_comerciais not in Tipo') # filtrando os dados que não contém os tipos de imóveis comerciais"
   ]
  },
  {
   "cell_type": "code",
   "execution_count": null,
   "metadata": {
    "id": "DrCXtYhi4RcD"
   },
   "outputs": [],
   "source": [
    "df = dados.query('@imoveis_comerciais not in Tipo')\n",
    "df.head()"
   ]
  },
  {
   "cell_type": "code",
   "execution_count": null,
   "metadata": {
    "id": "PsTmoPPh5VGa"
   },
   "outputs": [],
   "source": [
    "df.Tipo.unique() # mostra os valores únicos da coluna 'Tipo' para o dataframe de imoveis residenciais"
   ]
  },
  {
   "cell_type": "code",
   "execution_count": null,
   "metadata": {
    "id": "ueADvdISZUSe"
   },
   "outputs": [],
   "source": [
    "df_preco_tipo = df.groupby('Tipo')[['Valor']].mean().sort_values(by='Valor', ascending=False)\n",
    "df_preco_tipo.plot(kind='barh', figsize=(14,10), color='purple'); # plotando um gráfico de barras horizontais"
   ]
  },
  {
   "cell_type": "markdown",
   "metadata": {
    "id": "-wW1PcKCXP_8"
   },
   "source": [
    "## Qual o percentual de cada tipo de imóvel na nossa base de dados?"
   ]
  },
  {
   "cell_type": "code",
   "execution_count": null,
   "metadata": {
    "id": "LFn-BeGNXa2k"
   },
   "outputs": [],
   "source": [
    "df.Tipo.unique()"
   ]
  },
  {
   "cell_type": "code",
   "execution_count": null,
   "metadata": {
    "id": "qpjKJkjmXa0A"
   },
   "outputs": [],
   "source": [
    "df.Tipo.value_counts(normalize=True) # mostra a quantidade de cada tipo de imóvel"
   ]
  },
  {
   "cell_type": "code",
   "execution_count": null,
   "metadata": {
    "id": "XMWQmHhbXaxG"
   },
   "outputs": [],
   "source": [
    "df.Tipo.value_counts(normalize=True).to_frame().sort_values('Tipo') # mostra a quantidade de cada tipo de imóvel em um dataframe"
   ]
  },
  {
   "cell_type": "code",
   "execution_count": null,
   "metadata": {
    "id": "PXr5xrBvXasw"
   },
   "outputs": [],
   "source": [
    "df_percentual_tipo = df['Tipo'].value_counts(normalize=True).to_frame().sort_values('Tipo')\n",
    "\n",
    "df_percentual_tipo.plot(kind='bar', figsize=(14, 10), color ='green', edgecolor='black',\n",
    "                        xlabel = 'Tipos', ylabel = 'Percentual');\n"
   ]
  },
  {
   "cell_type": "markdown",
   "metadata": {
    "id": "2TJSa7Nr59qr"
   },
   "source": [
    "### **Selecionando apenas os imóveis do tipo apartamento**"
   ]
  },
  {
   "cell_type": "code",
   "execution_count": null,
   "metadata": {
    "id": "HZ7AhVhl6kXH"
   },
   "outputs": [],
   "source": [
    "df.query('Tipo == \"Apartamento\"')"
   ]
  },
  {
   "cell_type": "code",
   "execution_count": null,
   "metadata": {
    "id": "0CtEDNjF6xKH"
   },
   "outputs": [],
   "source": [
    "df = df.query('Tipo == \"Apartamento\"')\n",
    "df.head()"
   ]
  },
  {
   "cell_type": "markdown",
   "metadata": {
    "id": "Qicz5ljuWYIG"
   },
   "source": [
    "# Tratando e filtrando os dados"
   ]
  },
  {
   "cell_type": "markdown",
   "metadata": {
    "id": "sx6e737KaaWV"
   },
   "source": [
    "## Lidando com dados nulos"
   ]
  },
  {
   "cell_type": "code",
   "execution_count": null,
   "metadata": {
    "id": "XYFrVbLlWX0j"
   },
   "outputs": [],
   "source": [
    "df.isnull() # mostra os valores nulos do dataframe"
   ]
  },
  {
   "cell_type": "code",
   "execution_count": null,
   "metadata": {
    "id": "vtgPgHGnWYTZ"
   },
   "outputs": [],
   "source": [
    "df.isnull().sum() # mostra a quantidade de valores nulos do dataframe"
   ]
  },
  {
   "cell_type": "code",
   "execution_count": null,
   "metadata": {
    "id": "Mw2m96vCaZvE"
   },
   "outputs": [],
   "source": [
    "df.fillna(0) # substitui os valores nulos por 0"
   ]
  },
  {
   "cell_type": "code",
   "execution_count": null,
   "metadata": {
    "id": "KRF0dAyBaZq7"
   },
   "outputs": [],
   "source": [
    "df = df.fillna(0) # substitui os valores nulos por 0"
   ]
  },
  {
   "cell_type": "code",
   "execution_count": null,
   "metadata": {
    "id": "Plaat1OsbJ-5"
   },
   "outputs": [],
   "source": [
    "df.isnull().sum() # Nenhum dado nulo existente"
   ]
  },
  {
   "cell_type": "markdown",
   "metadata": {},
   "source": [
    "dropna() - Remove os valores nulos\n",
    "\n",
    "fillna() - Preenche os valores nulos\n",
    "- Ao preencher os valores nulos, podemos utilizar algumas estratégias:\n",
    "- Preenche com o valor anterior (ffill)\n",
    "- Preenche com o valor seguinte (bfill)\n",
    "- Basta passar o método como parâmetro do fillna(method='ffill')\n",
    "\n",
    "interpolate() - Preenche os valores nulos com base em uma interpolação\n",
    "\n"
   ]
  },
  {
   "cell_type": "markdown",
   "metadata": {
    "id": "B_OC_jS8cL0n"
   },
   "source": [
    "## Removendo registros"
   ]
  },
  {
   "cell_type": "code",
   "execution_count": null,
   "metadata": {
    "id": "H955G70zcKwX"
   },
   "outputs": [],
   "source": [
    "df.query('Valor == 0 | Condominio == 0') "
   ]
  },
  {
   "cell_type": "code",
   "execution_count": null,
   "metadata": {
    "id": "7M_YtGLgxd0k"
   },
   "outputs": [],
   "source": [
    "df.query('Valor == 0 | Condominio == 0').index"
   ]
  },
  {
   "cell_type": "code",
   "execution_count": null,
   "metadata": {
    "id": "R28sDOakx0dX"
   },
   "outputs": [],
   "source": [
    "registros_a_remover = df.query('Valor == 0 | Condominio == 0').index"
   ]
  },
  {
   "cell_type": "code",
   "execution_count": null,
   "metadata": {
    "id": "p4UIflVTcKtN"
   },
   "outputs": [],
   "source": [
    "df.drop(registros_a_remover, axis=0, inplace=True) \n",
    "# axis=0 -> linha\n",
    "# axis=1 -> coluna\n",
    "# inplace=True -> altera o dataframe original sem precisar atribuir a uma variável"
   ]
  },
  {
   "cell_type": "code",
   "execution_count": null,
   "metadata": {
    "id": "-hydAdP2e4m4"
   },
   "outputs": [],
   "source": [
    "df.query('Valor == 0 | Condominio == 0') # Nenhum dado nulo existente"
   ]
  },
  {
   "cell_type": "code",
   "execution_count": null,
   "metadata": {
    "id": "jLJ8MM7byGHq"
   },
   "outputs": [],
   "source": [
    "df.head()"
   ]
  },
  {
   "cell_type": "code",
   "execution_count": null,
   "metadata": {
    "id": "Roc3lFaEe6lZ"
   },
   "outputs": [],
   "source": [
    "df.Tipo.unique()"
   ]
  },
  {
   "cell_type": "code",
   "execution_count": null,
   "metadata": {
    "id": "ksSN-IzN8Z7i"
   },
   "outputs": [],
   "source": [
    "df.drop('Tipo', axis=1, inplace=True) # removendo a coluna 'Tipo'"
   ]
  },
  {
   "cell_type": "code",
   "execution_count": null,
   "metadata": {
    "id": "XohBafvw8dsX"
   },
   "outputs": [],
   "source": [
    "df.head()"
   ]
  },
  {
   "cell_type": "markdown",
   "metadata": {
    "id": "khQPzyksg5Hx"
   },
   "source": [
    "## Filtros"
   ]
  },
  {
   "cell_type": "markdown",
   "metadata": {
    "id": "ruP5z4iUy0HA"
   },
   "source": [
    "### **1. Apartamentos que possuem `1 quarto` e `aluguel menor que 1200`**\n",
    "\n"
   ]
  },
  {
   "cell_type": "code",
   "execution_count": null,
   "metadata": {
    "id": "qTimHdpn-UjL"
   },
   "outputs": [],
   "source": [
    "df['Quartos'] == 1"
   ]
  },
  {
   "cell_type": "code",
   "execution_count": null,
   "metadata": {
    "id": "_HAkpI9EeMPv"
   },
   "outputs": [],
   "source": [
    "selecao = df['Quartos'] == 1\n",
    "df[selecao] # filtrando os dados que contém 1 quarto"
   ]
  },
  {
   "cell_type": "code",
   "execution_count": null,
   "metadata": {
    "id": "i_uf0kP-0Jcv"
   },
   "outputs": [],
   "source": [
    "selecao2 = df['Valor'] < 1200\n",
    "df[selecao2] # filtrando os dados que contém valor menor que 1200\n"
   ]
  },
  {
   "cell_type": "code",
   "execution_count": null,
   "metadata": {
    "id": "9iZXXwkE0JaL"
   },
   "outputs": [],
   "source": [
    "selecao_final = (selecao) & (selecao2)\n",
    "df[selecao_final].head()"
   ]
  },
  {
   "cell_type": "code",
   "execution_count": null,
   "metadata": {},
   "outputs": [],
   "source": [
    "df_1 = df[selecao_final]"
   ]
  },
  {
   "cell_type": "markdown",
   "metadata": {
    "id": "cFeUf691y0oy"
   },
   "source": [
    "### **2. `Apartamentos` que possuem pelo menos `2 quartos`, `aluguel menor que 3000` e `area maior que 70`**"
   ]
  },
  {
   "cell_type": "code",
   "execution_count": null,
   "metadata": {
    "id": "nt0alj_leMeZ"
   },
   "outputs": [],
   "source": [
    "selecao = (df['Quartos'] >= 2) & (df['Valor'] < 3000) & (df['Area'] > 70)\n"
   ]
  },
  {
   "cell_type": "code",
   "execution_count": null,
   "metadata": {
    "id": "5b30hBhj76LA"
   },
   "outputs": [],
   "source": [
    "df_2 = df[selecao] # filtrando os dados que contém 2 quartos, valor menor que 3000 e área maior que 70"
   ]
  },
  {
   "cell_type": "markdown",
   "metadata": {
    "id": "X44FZQVd8Bdy"
   },
   "source": [
    "## Salvando os dados"
   ]
  },
  {
   "cell_type": "code",
   "execution_count": null,
   "metadata": {
    "id": "KrvHtvZm9BXQ"
   },
   "outputs": [],
   "source": [
    "df.to_csv('./Dados/dados_apartamentos.csv') # salvando o dataframe em um arquivo csv"
   ]
  },
  {
   "cell_type": "code",
   "execution_count": null,
   "metadata": {
    "id": "3MkTUyhj-G4L"
   },
   "outputs": [],
   "source": [
    "pd.read_csv('./Dados/dados_apartamentos.csv') # lendo o arquivo csv"
   ]
  },
  {
   "cell_type": "code",
   "execution_count": null,
   "metadata": {
    "id": "PuNhu13f96o0"
   },
   "outputs": [],
   "source": [
    "df.to_csv('./Dados/dados_apartamentos.csv', index=False) # salvando o dataframe em um arquivo csv sem o índice"
   ]
  },
  {
   "cell_type": "code",
   "execution_count": null,
   "metadata": {
    "id": "JlTd_yEP-F6B"
   },
   "outputs": [],
   "source": [
    "pd.read_csv('./Dados/dados_apartamentos.csv') # lendo o arquivo csv"
   ]
  },
  {
   "cell_type": "code",
   "execution_count": null,
   "metadata": {
    "id": "qtrF3cN3-PHn"
   },
   "outputs": [],
   "source": [
    "df.to_csv('./Dados/dados_apartamentos.csv', index=False, sep=';') # salvando o dataframe em um arquivo csv sem o índice e com o separador ';'"
   ]
  },
  {
   "cell_type": "code",
   "execution_count": null,
   "metadata": {
    "id": "ldKDP26a-Rk1"
   },
   "outputs": [],
   "source": [
    "pd.read_csv('./Dados/dados_apartamentos.csv') # lendo o arquivo csv"
   ]
  },
  {
   "cell_type": "code",
   "execution_count": null,
   "metadata": {
    "id": "Y5e2jaBR-UmV"
   },
   "outputs": [],
   "source": [
    "pd.read_csv('./Dados/dados_apartamentos.csv', sep=';') # lendo o arquivo csv com o separador ';'"
   ]
  },
  {
   "cell_type": "markdown",
   "metadata": {
    "id": "e6eJTZfKWXEs"
   },
   "source": [
    "# Manipulando os dados"
   ]
  },
  {
   "cell_type": "markdown",
   "metadata": {
    "id": "3i_NaXfjadEI"
   },
   "source": [
    "## Criando colunas numéricas"
   ]
  },
  {
   "cell_type": "code",
   "execution_count": null,
   "metadata": {
    "id": "49JAtiMED73t"
   },
   "outputs": [],
   "source": [
    "url = 'https://raw.githubusercontent.com/alura-cursos/pandas-conhecendo-a-biblioteca/main/base-de-dados/aluguel.csv'\n",
    "dados = pd.read_csv(url, sep=';')\n",
    "dados.head()"
   ]
  },
  {
   "cell_type": "code",
   "execution_count": null,
   "metadata": {
    "id": "rBejF2_badiG"
   },
   "outputs": [],
   "source": [
    "dados['Valor_por_mes'] = dados['Valor'] + dados['Condominio'] # criando uma nova coluna com o valor do aluguel + condomínio\n",
    "dados.head()"
   ]
  },
  {
   "cell_type": "code",
   "execution_count": null,
   "metadata": {
    "id": "66yfztw3ad2P"
   },
   "outputs": [],
   "source": [
    "dados['Valor_por_ano'] = dados['Valor_por_mes'] * 12 # criando uma nova coluna com o valor do aluguel + condomínio por ano\n",
    "dados.head()"
   ]
  },
  {
   "cell_type": "markdown",
   "metadata": {
    "id": "TZtb57m2bjzR"
   },
   "source": [
    "## Criando colunas categóricas"
   ]
  },
  {
   "cell_type": "code",
   "execution_count": null,
   "metadata": {
    "id": "tb4crkqWJO3u"
   },
   "outputs": [],
   "source": [
    "dados['Descricao'] = dados['Tipo'] + dados['Bairro'] # criando uma nova coluna com a descrição do imóvel\n",
    "dados.head()"
   ]
  },
  {
   "cell_type": "code",
   "execution_count": null,
   "metadata": {
    "id": "gmfpWCBENjGx"
   },
   "outputs": [],
   "source": [
    "dados['Descricao'] = dados['Tipo'] + ' em ' + dados['Bairro'] # criando uma nova coluna com a descrição do imóvel\n",
    "dados.head()"
   ]
  },
  {
   "cell_type": "code",
   "execution_count": null,
   "metadata": {
    "id": "Z-27rFc7NSwq"
   },
   "outputs": [],
   "source": [
    "dados['Descricao'] = dados['Tipo'] + ' em ' + dados['Bairro'] + ' com ' + \\\n",
    "                                        dados['Quartos'].astype(str) + ' quarto(s) ' + \\\n",
    "                                        ' e ' + dados['Vagas'].astype(str) + ' vaga(s) de garagem.'"
   ]
  },
  {
   "cell_type": "code",
   "execution_count": null,
   "metadata": {
    "id": "QSLfaWHlbkgD"
   },
   "outputs": [],
   "source": [
    "dados.head()"
   ]
  },
  {
   "cell_type": "code",
   "execution_count": null,
   "metadata": {
    "id": "oAYh5rVAbkZp"
   },
   "outputs": [],
   "source": [
    "dados['Possui_suite'] = dados['Suites'].apply(lambda x: 'Sim' if x > 0 else 'Não') # criando uma coluna binária\n",
    "dados.head()"
   ]
  },
  {
   "cell_type": "code",
   "execution_count": null,
   "metadata": {},
   "outputs": [],
   "source": [
    "dados.to_csv('./Dados/dados_completos.csv', sep=';', index=False) # salvando o dataframe em um arquivo csv sem o índice e com o separador ';'"
   ]
  }
 ],
 "metadata": {
  "colab": {
   "provenance": []
  },
  "kernelspec": {
   "display_name": "Python 3",
   "name": "python3"
  },
  "language_info": {
   "codemirror_mode": {
    "name": "ipython",
    "version": 3
   },
   "file_extension": ".py",
   "mimetype": "text/x-python",
   "name": "python",
   "nbconvert_exporter": "python",
   "pygments_lexer": "ipython3",
   "version": "3.9.12"
  }
 },
 "nbformat": 4,
 "nbformat_minor": 0
}
